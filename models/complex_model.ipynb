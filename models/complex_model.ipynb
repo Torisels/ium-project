{
 "cells": [
  {
   "cell_type": "code",
   "execution_count": 1,
   "id": "abcc6c44",
   "metadata": {},
   "outputs": [],
   "source": [
    "import pandas as pd\n",
    "import re\n",
    "import numpy as np\n",
    "from sklearn.metrics import classification_report, confusion_matrix, accuracy_score\n",
    "from sklearn.model_selection import train_test_split\n",
    "from sklearn.neighbors import NearestNeighbors\n",
    "from sklearn.preprocessing import StandardScaler\n",
    "from sklearn.naive_bayes import GaussianNB\n",
    "from sklearn.feature_extraction.text import TfidfVectorizer\n",
    "from sklearn.metrics.pairwise import linear_kernel, euclidean_distances, cosine_similarity"
   ]
  },
  {
   "cell_type": "code",
   "execution_count": 2,
   "id": "b38a9e7d",
   "metadata": {},
   "outputs": [],
   "source": [
    "users_df = pd.read_json(\"../data/users.jsonl\", lines=True)\n",
    "sessions_df = pd.read_json(\"../data/sessions.jsonl\", lines=True)\n",
    "products_df = pd.read_json(\"../data/products.jsonl\", lines=True)"
   ]
  },
  {
   "cell_type": "code",
   "execution_count": 27,
   "id": "f3145906",
   "metadata": {},
   "outputs": [],
   "source": [
    "products_cbf = products_df.copy()"
   ]
  },
  {
   "cell_type": "code",
   "execution_count": 181,
   "id": "e4975ac1",
   "metadata": {},
   "outputs": [],
   "source": [
    "model_B_sessions = sessions_df.copy()\n",
    "model_B_sessions['action_points'] = model_B_sessions['event_type'].map(lambda x: 1 if x == \"VIEW_PRODUCT\" else 3)\n",
    "actions_sums = model_B_sessions.groupby(['user_id', 'product_id'], as_index=False)['action_points'].sum()\n",
    "actions_sums_excel = pd.pivot_table(actions_sums, values='action_points', index='user_id', columns='product_id')\n",
    "actions_sums_excel = actions_sums_excel.fillna(0)\n",
    "actions_sums_excel_2 = actions_sums_excel.copy()\n",
    "actions_sums_excel = actions_sums_excel.stack().reset_index().rename(columns={0:\"action_points\"})\n",
    "actions_sums_excel[\"viewed\"] = actions_sums_excel['action_points'].apply(lambda x: 1 if x > 0 else 0)\n",
    "train_data = actions_sums_excel.sample(frac = 0.8)\n",
    "test_data = actions_sums_excel.drop(train_data.index)"
   ]
  },
  {
   "cell_type": "code",
   "execution_count": 182,
   "id": "83e36789",
   "metadata": {},
   "outputs": [],
   "source": [
    "def min_max_scale(df, columns):\n",
    "    for column in columns:\n",
    "        df[column] = (df[column] - df[column].min()) / (df[column].max() - df[column].min())\n",
    "    return df"
   ]
  },
  {
   "cell_type": "code",
   "execution_count": 183,
   "id": "de6278e1",
   "metadata": {},
   "outputs": [],
   "source": [
    "user_and_product = pd.merge(train_data, products_cbf, on=\"product_id\", how=\"left\")\n",
    "user_and_product = user_and_product[['user_id', 'product_id', 'product_name', 'price', 'user_rating', 'user_rating_count']]\n",
    "user_and_product = min_max_scale(user_and_product, [\"price\",'user_rating_count','user_rating'])\n",
    "product_cat = user_and_product[['product_id', 'product_name', 'price', 'user_rating', 'user_rating_count']].drop_duplicates('product_id')\n",
    "tfidf_name = TfidfVectorizer()\n",
    "products_content_name = tfidf_name.fit_transform(product_cat['product_name'].unique())\n",
    "cosine_sim_name = linear_kernel(products_content_name, products_content_name)\n"
   ]
  },
  {
   "cell_type": "code",
   "execution_count": 184,
   "id": "1239b05d",
   "metadata": {},
   "outputs": [],
   "source": [
    "price_matrix = np.reciprocal(euclidean_distances(np.array(product_cat['price']).reshape(-1,1))+1)\n",
    "euclidean_matrix1 = pd.DataFrame(price_matrix,columns=product_cat['product_id'],index=product_cat['product_id'])\n",
    "\n",
    "rating_matrix = np.reciprocal(euclidean_distances(np.array(product_cat['user_rating']).reshape(-1,1))+1)\n",
    "euclidean_matrix2 = pd.DataFrame(rating_matrix,columns=product_cat['product_id'],index=product_cat['product_id'])\n",
    "\n",
    "rating_matrix = np.reciprocal(euclidean_distances(np.array(product_cat['user_rating_count']).reshape(-1,1))+1)\n",
    "euclidean_matrix3 = pd.DataFrame(rating_matrix,columns=product_cat['product_id'],index=product_cat['product_id'])"
   ]
  },
  {
   "cell_type": "code",
   "execution_count": 185,
   "id": "66fa77bf",
   "metadata": {},
   "outputs": [
    {
     "data": {
      "text/html": [
       "<div>\n",
       "<style scoped>\n",
       "    .dataframe tbody tr th:only-of-type {\n",
       "        vertical-align: middle;\n",
       "    }\n",
       "\n",
       "    .dataframe tbody tr th {\n",
       "        vertical-align: top;\n",
       "    }\n",
       "\n",
       "    .dataframe thead th {\n",
       "        text-align: right;\n",
       "    }\n",
       "</style>\n",
       "<table border=\"1\" class=\"dataframe\">\n",
       "  <thead>\n",
       "    <tr style=\"text-align: right;\">\n",
       "      <th></th>\n",
       "      <th>user_id</th>\n",
       "      <th>product_id</th>\n",
       "      <th>predicted_interaction</th>\n",
       "    </tr>\n",
       "  </thead>\n",
       "  <tbody>\n",
       "    <tr>\n",
       "      <th>0</th>\n",
       "      <td>102</td>\n",
       "      <td>1497</td>\n",
       "      <td>0.176448</td>\n",
       "    </tr>\n",
       "    <tr>\n",
       "      <th>1</th>\n",
       "      <td>102</td>\n",
       "      <td>1276</td>\n",
       "      <td>0.228600</td>\n",
       "    </tr>\n",
       "    <tr>\n",
       "      <th>2</th>\n",
       "      <td>102</td>\n",
       "      <td>1168</td>\n",
       "      <td>0.480910</td>\n",
       "    </tr>\n",
       "    <tr>\n",
       "      <th>3</th>\n",
       "      <td>102</td>\n",
       "      <td>1084</td>\n",
       "      <td>0.337705</td>\n",
       "    </tr>\n",
       "    <tr>\n",
       "      <th>4</th>\n",
       "      <td>102</td>\n",
       "      <td>1457</td>\n",
       "      <td>0.514518</td>\n",
       "    </tr>\n",
       "    <tr>\n",
       "      <th>...</th>\n",
       "      <td>...</td>\n",
       "      <td>...</td>\n",
       "      <td>...</td>\n",
       "    </tr>\n",
       "    <tr>\n",
       "      <th>123795</th>\n",
       "      <td>301</td>\n",
       "      <td>1585</td>\n",
       "      <td>7.144697</td>\n",
       "    </tr>\n",
       "    <tr>\n",
       "      <th>123796</th>\n",
       "      <td>301</td>\n",
       "      <td>1268</td>\n",
       "      <td>6.804175</td>\n",
       "    </tr>\n",
       "    <tr>\n",
       "      <th>123797</th>\n",
       "      <td>301</td>\n",
       "      <td>1045</td>\n",
       "      <td>23.898203</td>\n",
       "    </tr>\n",
       "    <tr>\n",
       "      <th>123798</th>\n",
       "      <td>301</td>\n",
       "      <td>1393</td>\n",
       "      <td>15.536729</td>\n",
       "    </tr>\n",
       "    <tr>\n",
       "      <th>123799</th>\n",
       "      <td>301</td>\n",
       "      <td>1055</td>\n",
       "      <td>3.615297</td>\n",
       "    </tr>\n",
       "  </tbody>\n",
       "</table>\n",
       "<p>123800 rows × 3 columns</p>\n",
       "</div>"
      ],
      "text/plain": [
       "        user_id  product_id  predicted_interaction\n",
       "0           102        1497               0.176448\n",
       "1           102        1276               0.228600\n",
       "2           102        1168               0.480910\n",
       "3           102        1084               0.337705\n",
       "4           102        1457               0.514518\n",
       "...         ...         ...                    ...\n",
       "123795      301        1585               7.144697\n",
       "123796      301        1268               6.804175\n",
       "123797      301        1045              23.898203\n",
       "123798      301        1393              15.536729\n",
       "123799      301        1055               3.615297\n",
       "\n",
       "[123800 rows x 3 columns]"
      ]
     },
     "execution_count": 185,
     "metadata": {},
     "output_type": "execute_result"
    }
   ],
   "source": [
    "similarity_matrix = euclidean_matrix1.multiply(euclidean_matrix2).multiply(euclidean_matrix3).multiply(cosine_sim_name)\n",
    "content_matrix = actions_sums_excel_2.dot(similarity_matrix)\n",
    "content_df = content_matrix.stack().reset_index()\n",
    "content_df = content_df.rename(columns={'level_0':'user_id','level_1':'product_id',0:'predicted_interaction'})\n",
    "content_df"
   ]
  },
  {
   "cell_type": "code",
   "execution_count": 186,
   "id": "7746e319",
   "metadata": {},
   "outputs": [],
   "source": [
    "def get_recommendationB(content_df, user_id, dataset, K):\n",
    "    '''\n",
    "    Zwraca id produktów K \"najlepszych\" rekomendacji dla podanego użytkownika.\n",
    "    Jako dataset należy podać zbiór danych zawierający liczbę \"kliknięć\" dla każdej pary użytkownik-produkt.\n",
    "    Rekomendacje nie zawierają produktów, które użytkownik już kiedyś wyświetlił.\n",
    "    '''    \n",
    "    content_df = content_df.loc[content_df['user_id'] == user_id]\n",
    "    user_content_df = content_df.sort_values(by=\"predicted_interaction\", ascending=False)\n",
    "    for pid in dataset[(dataset[\"viewed\"]==1) & (dataset[\"user_id\"]==user_id)][\"product_id\"]:\n",
    "        user_content_df.drop(user_content_df[user_content_df['product_id'] == pid].index, inplace = True)\n",
    "  \n",
    "    return list(user_content_df.head(K)[\"product_id\"])"
   ]
  },
  {
   "cell_type": "code",
   "execution_count": 189,
   "id": "d3295da7",
   "metadata": {},
   "outputs": [
    {
     "name": "stdout",
     "output_type": "stream",
     "text": [
      "0.3800\n"
     ]
    }
   ],
   "source": [
    "test_users = users_df.sample(frac = 0.05)[\"user_id\"]\n",
    "K = 5\n",
    "correct = 0\n",
    "for user in test_users:\n",
    "    recommendations = get_recommendationB(content_df, user, train_data, K)\n",
    "    for recommendation in recommendations:\n",
    "        view = test_data[(test_data['product_id'] == recommendation) & (test_data['user_id'] == user)]['viewed']\n",
    "        if view.any():\n",
    "            correct = correct + 1\n",
    "result = correct / (K * len(test_users))\n",
    "\n",
    "print(\"{:.4f}\".format(result))"
   ]
  }
 ],
 "metadata": {
  "kernelspec": {
   "display_name": "Python 3 (ipykernel)",
   "language": "python",
   "name": "python3"
  },
  "language_info": {
   "codemirror_mode": {
    "name": "ipython",
    "version": 3
   },
   "file_extension": ".py",
   "mimetype": "text/x-python",
   "name": "python",
   "nbconvert_exporter": "python",
   "pygments_lexer": "ipython3",
   "version": "3.9.5"
  }
 },
 "nbformat": 4,
 "nbformat_minor": 5
}
