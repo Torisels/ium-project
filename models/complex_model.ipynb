{
 "cells": [
  {
   "cell_type": "code",
   "execution_count": 17,
   "id": "e7393fea",
   "metadata": {},
   "outputs": [],
   "source": [
    "import pandas as pd\n",
    "import re\n",
    "import numpy as np\n",
    "from sklearn.metrics import classification_report, confusion_matrix, accuracy_score\n",
    "from sklearn.model_selection import train_test_split\n",
    "from sklearn.neighbors import NearestNeighbors\n",
    "from sklearn.preprocessing import StandardScaler\n",
    "from sklearn.naive_bayes import GaussianNB\n",
    "from sklearn.feature_extraction.text import TfidfVectorizer\n",
    "from sklearn.metrics.pairwise import linear_kernel"
   ]
  },
  {
   "cell_type": "code",
   "execution_count": 18,
   "id": "573d2998",
   "metadata": {},
   "outputs": [],
   "source": [
    "users_df = pd.read_json(\"../data/users.jsonl\", lines=True)\n",
    "sessions_df = pd.read_json(\"../data/sessions.jsonl\", lines=True)\n",
    "products_df = pd.read_json(\"../data/products.jsonl\", lines=True)"
   ]
  },
  {
   "cell_type": "code",
   "execution_count": 22,
   "id": "1570abb7",
   "metadata": {},
   "outputs": [],
   "source": [
    "products_cbf = products_df.copy()\n",
    "products_cbf[\"category_path\"] = products_cbf[\"category_path\"].apply(lambda x: \" \".join(x.split(\";\")))                                                           \n",
    "tfidf_name = TfidfVectorizer()\n",
    "tfidf_category = TfidfVectorizer()\n",
    "\n",
    "products_content_name = tfidf_name.fit_transform(products_cbf['product_name'].unique())\n",
    "products_content_category = tfidf_category.fit_transform(products_cbf['category_path'].unique())\n",
    "\n",
    "cosine_sim_name = linear_kernel(products_content_name, products_content_name)\n",
    "cosine_sim_category = linear_kernel(products_content_category, products_content_category)"
   ]
  },
  {
   "cell_type": "code",
   "execution_count": 23,
   "id": "e1f62a1b",
   "metadata": {},
   "outputs": [
    {
     "name": "stdout",
     "output_type": "stream",
     "text": [
      "category_path\n",
      "Monitory komputerowe Monitory               0\n",
      "Klawiatury Przewodowe                       1\n",
      "Monitory komputerowe Monitory               2\n",
      "Zestaw klawiatura i mysz Bezprzewodowe      3\n",
      "Monitory komputerowe Monitory               4\n",
      "                                         ... \n",
      "Myszki Bezprzewodowe                      614\n",
      "Klawiatury Bezprzewodowe                  615\n",
      "Myszki Przewodowe                         616\n",
      "Monitory komputerowe Monitory             617\n",
      "Zestaw klawiatura i mysz Bezprzewodowe    618\n",
      "Length: 619, dtype: int64\n",
      "product_name\n",
      "Monitor LED Philips 193V5LSB2/10 18.5 \" 1366 x 768 px TN           0\n",
      "Klawiatura mechaniczna Marvo KG962 EN B                            1\n",
      "Monitor LED iiyama XUB2390HS-B1 23 \" 1920 x 1080 px IPS / PLS      2\n",
      "Zestaw bezprzewodowy 2w1 klawiatura + mysz Natec                   3\n",
      "Monitor LED AOC U27P2; 27 \" 3840 x 2160 px IPS / PLS               4\n",
      "                                                                ... \n",
      "Myszka bezprzewodowa Logitech M187 sensor optyczny               614\n",
      "Klawiatura membranowa Logitech K270                              615\n",
      "Myszka przewodowa Razer Basilisk X Hyperspeed sensor optyczny    616\n",
      "Monitor LED LG 32GK650F-B 31.5 \" 2560 x 1440 px VA               617\n",
      "Zestaw bezprzewodowy Logitech MK295 czarny                       618\n",
      "Length: 619, dtype: int64\n"
     ]
    }
   ],
   "source": [
    "indices_category = pd.Series(products_cbf.index, index=products_cbf['category_path']).drop_duplicates()\n",
    "indices_product = pd.Series(products_cbf.index, index=products_cbf['product_name']).drop_duplicates()\n",
    "\n",
    "print(indices_category)\n",
    "print(indices_product)"
   ]
  },
  {
   "cell_type": "code",
   "execution_count": 24,
   "id": "aaddcd17",
   "metadata": {},
   "outputs": [],
   "source": [
    "def get_recommendations(title, cosine_sim, indices):\n",
    "    # Get the index of the movie that matches the title\n",
    "    idx = indices[title]\n",
    "\n",
    "    # Get the pairwsie similarity scores of all movies with that movie\n",
    "    sim_scores = list(enumerate(cosine_sim[idx]))\n",
    "\n",
    "    # Sort the movies based on the similarity scores\n",
    "    sim_scores = sorted(sim_scores, key=lambda x: x[1], reverse=True)\n",
    "\n",
    "    # Get the scores of the 10 most similar movies\n",
    "    sim_scores = sim_scores[1:11]\n",
    "\n",
    "    # Get the movie indices\n",
    "    movie_indices = [i[0] for i in sim_scores]\n",
    "\n",
    "    # Return the top 10 most similar movies\n",
    "    return products_cbf['product_name'].iloc[movie_indices]"
   ]
  },
  {
   "cell_type": "code",
   "execution_count": 25,
   "id": "780653a4",
   "metadata": {},
   "outputs": [
    {
     "data": {
      "text/plain": [
       "165    Monitor LED Samsung LS27A700NWUXEN 27 \" 3840 x...\n",
       "344    Monitor LED Samsung LS27A800NMUXEN 27 \" 3840 x...\n",
       "385    Monitor LED LG 27UL500-W 27 \" 3840 x 2160 px I...\n",
       "497    Monitor LED LG 27UP850-W 27 \" 3840 x 2160 px I...\n",
       "100    Monitor LED Samsung U28R550UQR 28 \" 3840 x 216...\n",
       "182    Monitor LED AOC 27V2Q 27 \" 1920 x 1080 px IPS ...\n",
       "407    Monitor LED AOC Q2790PQE 27 \" 2560 x 1440 px I...\n",
       "211    Monitor LED BenQ 9H.LF9LA.TBE 32 \" 3840 x 2160...\n",
       "47                     Monitor AOC U27P2CA 27\" IPS / PLS\n",
       "401    Monitor LED Samsung F32TU870VR 32 \" 3840 x 216...\n",
       "Name: product_name, dtype: object"
      ]
     },
     "execution_count": 25,
     "metadata": {},
     "output_type": "execute_result"
    }
   ],
   "source": [
    "get_recommendations('Monitor LED AOC U27P2; 27 \" 3840 x 2160 px IPS / PLS', cosine_sim_name, indices_product)"
   ]
  }
 ],
 "metadata": {
  "kernelspec": {
   "display_name": "ium_venv",
   "language": "python",
   "name": "ium_venv"
  },
  "language_info": {
   "codemirror_mode": {
    "name": "ipython",
    "version": 3
   },
   "file_extension": ".py",
   "mimetype": "text/x-python",
   "name": "python",
   "nbconvert_exporter": "python",
   "pygments_lexer": "ipython3",
   "version": "3.8.5"
  }
 },
 "nbformat": 4,
 "nbformat_minor": 5
}
