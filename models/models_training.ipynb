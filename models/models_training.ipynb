{
 "cells": [
  {
   "cell_type": "code",
   "execution_count": 107,
   "metadata": {},
   "outputs": [],
   "source": [
    "import pandas as pd\n",
    "import re\n",
    "import numpy as np\n",
    "from sklearn.metrics import classification_report, confusion_matrix, accuracy_score\n",
    "from sklearn.model_selection import train_test_split\n",
    "from sklearn.neighbors import NearestNeighbors\n",
    "from sklearn.preprocessing import StandardScaler\n",
    "from sklearn.naive_bayes import GaussianNB"
   ]
  },
  {
   "cell_type": "code",
   "execution_count": 108,
   "metadata": {},
   "outputs": [
    {
     "name": "stdout",
     "output_type": "stream",
     "text": [
      "     user_id             name      city                 street\n",
      "0        102  Monika Forysiak    Poznań      plac Dębowa 11/53\n",
      "1        103  Kacper Malewicz   Wrocław   aleja Browarna 79/72\n",
      "2        104    Tomasz Janiuk    Kraków  ulica Cegielniana 318\n",
      "3        105    Roksana Mućka     Radom        plac Perłowa 48\n",
      "4        106     Wiktor Jarka  Warszawa            al. Bema 37\n",
      "..       ...              ...       ...                    ...\n",
      "195      297    Błażej Pachla    Kraków      ulica Lisia 09/00\n",
      "196      298     Cezary Jonak    Gdynia    aleja Kołłątaja 110\n",
      "197      299     Sylwia Karol   Wrocław       al. Podleśna 999\n",
      "198      300      Bruno Cisoń     Radom   ulica Malinowa 64/08\n",
      "199      301        Tola Osik  Szczecin    plac Tulipanowa 386\n",
      "\n",
      "[200 rows x 4 columns]\n"
     ]
    }
   ],
   "source": [
    "users_df = pd.read_json(\"../data/users.jsonl\", lines=True)\n",
    "sessions_df = pd.read_json(\"../data/sessions.jsonl\", lines=True)\n",
    "products_df = pd.read_json(\"../data/products.jsonl\", lines=True)\n",
    "print(users_df)"
   ]
  },
  {
   "cell_type": "code",
   "execution_count": 109,
   "metadata": {
    "scrolled": true
   },
   "outputs": [],
   "source": [
    "# Getting sex out of name\n",
    "for index, row in users_df.iterrows():\n",
    "    if row[\"name\"].split(\" \")[0][-1] == \"a\":\n",
    "        users_df.loc[index, \"sex\"] = \"female\"\n",
    "    else:\n",
    "        users_df.loc[index, \"sex\"] = \"male\""
   ]
  },
  {
   "cell_type": "code",
   "execution_count": 110,
   "metadata": {
    "scrolled": true
   },
   "outputs": [
    {
     "name": "stdout",
     "output_type": "stream",
     "text": [
      "     user_id             name      city                 street     sex\n",
      "0        102  Monika Forysiak    Poznań      plac Dębowa 11/53  female\n",
      "1        103  Kacper Malewicz   Wrocław   aleja Browarna 79/72    male\n",
      "2        104    Tomasz Janiuk    Kraków  ulica Cegielniana 318    male\n",
      "3        105    Roksana Mućka     Radom        plac Perłowa 48  female\n",
      "4        106     Wiktor Jarka  Warszawa            al. Bema 37    male\n",
      "..       ...              ...       ...                    ...     ...\n",
      "195      297    Błażej Pachla    Kraków      ulica Lisia 09/00    male\n",
      "196      298     Cezary Jonak    Gdynia    aleja Kołłątaja 110    male\n",
      "197      299     Sylwia Karol   Wrocław       al. Podleśna 999  female\n",
      "198      300      Bruno Cisoń     Radom   ulica Malinowa 64/08    male\n",
      "199      301        Tola Osik  Szczecin    plac Tulipanowa 386  female\n",
      "\n",
      "[200 rows x 5 columns]\n"
     ]
    }
   ],
   "source": [
    "print(users_df)"
   ]
  },
  {
   "cell_type": "code",
   "execution_count": 111,
   "metadata": {},
   "outputs": [],
   "source": [
    "def extract_color(products_df):\n",
    "    for index, row in products_df.iterrows():\n",
    "        color = re.search(\"'color': '\\w+'\", str(row[\"optional_attributes\"]))\n",
    "        if color != None:\n",
    "            products_df.loc[index, \"color\"] = color.group(0)[10:-1]\n",
    "        else:\n",
    "            products_df.loc[index, \"color\"] = None\n",
    "    return products_df"
   ]
  },
  {
   "cell_type": "code",
   "execution_count": 112,
   "metadata": {},
   "outputs": [],
   "source": [
    "def encode_and_bind(original_dataframe, feature_to_encode):\n",
    "    dummies = pd.get_dummies(original_dataframe[[feature_to_encode]], prefix=\"\", prefix_sep=\"\")\n",
    "    res = pd.concat([original_dataframe, dummies], axis=1)\n",
    "    res = res.drop([feature_to_encode], axis=1)\n",
    "    return(res) "
   ]
  },
  {
   "cell_type": "code",
   "execution_count": 113,
   "metadata": {},
   "outputs": [],
   "source": [
    "def normalize(df, columns_to_norm):\n",
    "    for feature_name in df.columns:\n",
    "        if feature_name in columns_to_norm:\n",
    "            max_value = df[feature_name].max()\n",
    "            min_value = df[feature_name].min()\n",
    "            df[feature_name] = (df[feature_name] - min_value) / (max_value - min_value)\n",
    "    return df"
   ]
  },
  {
   "cell_type": "code",
   "execution_count": 252,
   "metadata": {},
   "outputs": [],
   "source": [
    "products_model_A = products_df.copy()\n",
    "products_model_A = extract_color(products_model_A)\n",
    "products_model_A = encode_and_bind(products_model_A, 'category_path')\n",
    "#products_model_A = encode_and_bind(products_model_A, 'color')\n",
    "products_model_A = products_model_A.drop(columns=[\"product_name\", \"brand\", \"optional_attributes\",\"weight_kg\",\"color\", \"user_rating_count\"])\n",
    "products_model_A = normalize(products_model_A, ['price', 'user_rating'])\n",
    "\n",
    "X = products_model_A.drop(columns=[\"product_id\"])\n",
    "nbrs = NearestNeighbors(n_neighbors=5, algorithm='brute', metric=\"cosine\").fit(X)"
   ]
  },
  {
   "cell_type": "code",
   "execution_count": 115,
   "metadata": {},
   "outputs": [],
   "source": [
    "def get_users_views(sessions):\n",
    "    sessions_model_A = sessions.copy()\n",
    "    sessions_model_A['view'] = sessions_model_A['event_type'].map(lambda x: 1 if x == \"VIEW_PRODUCT\" else 0)\n",
    "    users_views = sessions_model_A.groupby(['user_id', 'product_id'], as_index=False)['view'].sum()\n",
    "    return users_views"
   ]
  },
  {
   "cell_type": "code",
   "execution_count": 253,
   "metadata": {},
   "outputs": [],
   "source": [
    "def get_product_params(product_id, products):\n",
    "    ret_product = products.loc[products[\"product_id\"] == product_id]\n",
    "    ret_product = extract_color(products)\n",
    "    ret_product = normalize(ret_product, ['price', 'user_rating'])\n",
    "    ret_product = encode_and_bind(ret_product, 'category_path')\n",
    "    #ret_product = encode_and_bind(ret_product, 'color')\n",
    "    ret_product = ret_product.loc[ret_product[\"product_id\"] == product_id]\n",
    "    ret_product = ret_product.drop(columns=[\"product_name\", \"brand\", \"user_rating_count\",\"optional_attributes\",\"weight_kg\",\"product_id\",\"color\"])\n",
    "    return ret_product\n",
    "    "
   ]
  },
  {
   "cell_type": "code",
   "execution_count": 254,
   "metadata": {},
   "outputs": [],
   "source": [
    "def get_recommendationsA(user_id, model, users_views, products, k):\n",
    "    most_viewed = users_views.loc[users_views[\"user_id\"] == user_id].sort_values(by=[\"view\"], ascending=False)\n",
    "    viewed_products = list(most_viewed[\"product_id\"])\n",
    "    final_reccomendation = []\n",
    "    for product in viewed_products:\n",
    "        distances, recommended = model.kneighbors(get_product_params(product, products))\n",
    "        for recommended_product in recommended[0]:\n",
    "            recommended_product_id = products.iloc[[recommended_product]]['product_id']\n",
    "            if int(recommended_product_id) not in viewed_products:\n",
    "                final_reccomendation.append(int(recommended_product_id))\n",
    "            if len(final_reccomendation) == k:\n",
    "                return final_reccomendation"
   ]
  },
  {
   "cell_type": "code",
   "execution_count": 250,
   "metadata": {},
   "outputs": [
    {
     "name": "stdout",
     "output_type": "stream",
     "text": [
      "0.1300\n"
     ]
    }
   ],
   "source": [
    "k = 5\n",
    "user_views_data = get_users_views(sessions_df).reset_index()\n",
    "train_data_A = user_views_data.sample(frac = 0.8)\n",
    "test_data_A = user_views_data.drop(train_data_A.index)\n",
    "# test_users = test_data_A[\"user_id\"]\n",
    "\n",
    "# test_users = list(set(train_data_A[\"user_id\"].unique()).intersection((test_users).unique()))\n",
    "\n",
    "test_users = users_df.sample(frac = 0.1)[\"user_id\"]\n",
    "correct = 0\n",
    "for user in test_users:\n",
    "    recommendations = get_recommendationsA(user, nbrs, train_data_A, products_df, k)\n",
    "    for recommendation in recommendations:\n",
    "        view = test_data_A.loc[(test_data_A['product_id'] == recommendation) & (test_data_A['user_id'] == user)]['view']\n",
    "        if len(view) != 0:\n",
    "            correct += 1\n",
    "result = correct / (k*len(test_users))\n",
    "\n",
    "print(\"{:.4f}\".format(result))"
   ]
  },
  {
   "cell_type": "code",
   "execution_count": 189,
   "metadata": {},
   "outputs": [
    {
     "name": "stdout",
     "output_type": "stream",
     "text": [
      "216\n",
      "184\n",
      "298\n",
      "297\n",
      "170\n",
      "296\n",
      "198\n",
      "143\n",
      "224\n",
      "176\n",
      "288\n",
      "214\n",
      "185\n",
      "250\n",
      "155\n",
      "211\n",
      "222\n",
      "285\n",
      "292\n",
      "220\n",
      "295\n",
      "210\n",
      "162\n",
      "284\n",
      "128\n",
      "159\n",
      "268\n",
      "160\n",
      "257\n",
      "150\n",
      "177\n",
      "275\n",
      "230\n",
      "194\n",
      "270\n",
      "236\n",
      "255\n",
      "154\n",
      "113\n",
      "193\n",
      "0.0850\n"
     ]
    }
   ],
   "source": [
    "\n"
   ]
  },
  {
   "cell_type": "code",
   "execution_count": null,
   "metadata": {},
   "outputs": [],
   "source": []
  }
 ],
 "metadata": {
  "interpreter": {
   "hash": "31f2aee4e71d21fbe5cf8b01ff0e069b9275f58929596ceb00d14d90e3e16cd6"
  },
  "kernelspec": {
   "display_name": "Python 3 (ipykernel)",
   "language": "python",
   "name": "python3"
  },
  "language_info": {
   "codemirror_mode": {
    "name": "ipython",
    "version": 3
   },
   "file_extension": ".py",
   "mimetype": "text/x-python",
   "name": "python",
   "nbconvert_exporter": "python",
   "pygments_lexer": "ipython3",
   "version": "3.9.5"
  }
 },
 "nbformat": 4,
 "nbformat_minor": 2
}
