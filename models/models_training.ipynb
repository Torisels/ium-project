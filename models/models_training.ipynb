{
 "cells": [
  {
   "cell_type": "code",
   "execution_count": 1,
   "metadata": {},
   "outputs": [],
   "source": [
    "# potrzebne importy\n",
    "import pandas as pd\n",
    "import re\n",
    "import numpy as np\n",
    "from sklearn.metrics import classification_report, confusion_matrix, accuracy_score\n",
    "from sklearn.model_selection import train_test_split\n",
    "from sklearn.neighbors import NearestNeighbors\n",
    "from sklearn.preprocessing import StandardScaler\n",
    "from sklearn.naive_bayes import GaussianNB"
   ]
  },
  {
   "cell_type": "code",
   "execution_count": 6,
   "metadata": {},
   "outputs": [],
   "source": [
    "# wczytanie danych\n",
    "users_df = pd.read_json(\"../data/users.jsonl\", lines=True)\n",
    "sessions_df = pd.read_json(\"../data/sessions.jsonl\", lines=True)\n",
    "products_df = pd.read_json(\"../data/products.jsonl\", lines=True)"
   ]
  },
  {
   "cell_type": "markdown",
   "metadata": {},
   "source": [
    "#### Funkcje pomocnicze do przetwarzania danych"
   ]
  },
  {
   "cell_type": "code",
   "execution_count": 3,
   "metadata": {},
   "outputs": [],
   "source": [
    "def extract_color(products_df):\n",
    "    for index, row in products_df.iterrows():\n",
    "        color = re.search(\"'color': '\\w+'\", str(row[\"optional_attributes\"]))\n",
    "        if color != None:\n",
    "            products_df.loc[index, \"color\"] = color.group(0)[10:-1]\n",
    "        else:\n",
    "            products_df.loc[index, \"color\"] = None\n",
    "    return products_df"
   ]
  },
  {
   "cell_type": "code",
   "execution_count": 4,
   "metadata": {},
   "outputs": [],
   "source": [
    "def encode_and_bind(original_dataframe, feature_to_encode):\n",
    "    dummies = pd.get_dummies(original_dataframe[[feature_to_encode]], prefix=\"\", prefix_sep=\"\")\n",
    "    res = pd.concat([original_dataframe, dummies], axis=1)\n",
    "    res = res.drop([feature_to_encode], axis=1)\n",
    "    return(res) "
   ]
  },
  {
   "cell_type": "code",
   "execution_count": 5,
   "metadata": {},
   "outputs": [],
   "source": [
    "def normalize(df, columns_to_norm):\n",
    "    for feature_name in df.columns:\n",
    "        if feature_name in columns_to_norm:\n",
    "            max_value = df[feature_name].max()\n",
    "            min_value = df[feature_name].min()\n",
    "            df[feature_name] = (df[feature_name] - min_value) / (max_value - min_value)\n",
    "    return df"
   ]
  },
  {
   "cell_type": "code",
   "execution_count": 8,
   "metadata": {},
   "outputs": [],
   "source": [
    "def get_users_views(sessions):\n",
    "    sessions_model_A = sessions.copy()\n",
    "    sessions_model_A['view'] = sessions_model_A['event_type'].map(lambda x: 1 if x == \"VIEW_PRODUCT\" else 0)\n",
    "    users_views = sessions_model_A.groupby(['user_id', 'product_id'], as_index=False)['view'].sum()\n",
    "    return users_views"
   ]
  },
  {
   "cell_type": "code",
   "execution_count": 9,
   "metadata": {},
   "outputs": [],
   "source": [
    "def get_product_params(product_id, products):\n",
    "    ret_product = products.loc[products[\"product_id\"] == product_id]\n",
    "    ret_product = ret_product.drop(columns=\"product_id\")\n",
    "    return ret_product\n",
    "    "
   ]
  },
  {
   "cell_type": "markdown",
   "metadata": {},
   "source": [
    "## Model naiwny\n",
    "\n",
    "Model naiwny korzysta z algorytmu K najbliższych sąsiadów. Na podstawie bazy wszystkich produktów obliczane są dystanse podobieństwa pomiędzy produktami na podstawie metryki cosinusowej. Wybrane atrybuty do obliczania metryk to: cena, ścieżka kategorii, ocena użytkownika. Następnie budowana jest tablica krotek: (użytkownik, produkt, liczba wyświetleń produktu) - tablica popularności danego produktu względem użytkownika. Taka tablica jest zbiorem trenującym, dla każdego użytkownika następuje sortowanie produktów malejąco według liczby wyświetleń, następnie dla najpopularniejszego produktu dla każdego użytkownika jest uruchamiany algorytm KNN znajdujący produkty najbardziej podobne do tego najchętniej oglądanego. Gdyby polecane produkty znalazły się już w tych wyświetlonych przez użytkownika to algorytm będzie szukał produktów podobnych dla mniej popularnych pozycji po to, aby użytkownik miał w polecanych produktach tylko te, których sam jeszcze nie widział. "
   ]
  },
  {
   "cell_type": "code",
   "execution_count": 34,
   "metadata": {},
   "outputs": [],
   "source": [
    "def prepare_products_set_basic(products_df):\n",
    "    products_set = products_df.copy()\n",
    "    products_set = extract_color(products_set)\n",
    "    products_set = encode_and_bind(products_set, 'category_path')\n",
    "    products_set = products_set.drop(columns=[\"product_name\", \"brand\", \"optional_attributes\",\"weight_kg\",\"color\", \"user_rating_count\"])\n",
    "    products_set = normalize(products_set, ['price', 'user_rating'])\n",
    "    return products_set"
   ]
  },
  {
   "cell_type": "code",
   "execution_count": 40,
   "metadata": {},
   "outputs": [],
   "source": [
    "# trenowanie modelu KNN\n",
    "products_set = prepare_products_set_basic(products_df)"
   ]
  },
  {
   "cell_type": "code",
   "execution_count": 46,
   "metadata": {},
   "outputs": [],
   "source": [
    "def train_basic_model(train_set, k=5, algo=\"brute\", metric=\"cosine\"):\n",
    "    X = products_model_A.drop(columns=[\"product_id\"])\n",
    "    return NearestNeighbors(n_neighbors=k, algorithm=algo, metric=metric).fit(X)"
   ]
  },
  {
   "cell_type": "code",
   "execution_count": 47,
   "metadata": {},
   "outputs": [],
   "source": [
    "nbrs = train_basic_model(products_set)"
   ]
  },
  {
   "cell_type": "code",
   "execution_count": 172,
   "metadata": {},
   "outputs": [],
   "source": [
    "# zapis zserializowanego modelu oraz przetworzonych danych do pliku\n",
    "products_model_A.to_pickle(\"products_basic.pickle\")\n",
    "import pickle\n",
    "with open(\"model_basic.pickle\", \"wb\") as f:\n",
    "    pickle.dump(nbrs, f)"
   ]
  },
  {
   "cell_type": "code",
   "execution_count": 327,
   "metadata": {},
   "outputs": [],
   "source": [
    "def recommendations_basic(user_id, model, users_views, products, k):\n",
    "    most_viewed = users_views.loc[users_views[\"user_id\"] == user_id].sort_values(by=[\"view\"], ascending=False)\n",
    "    viewed_products = list(most_viewed[\"product_id\"])\n",
    "    final_reccomendation = []\n",
    "    for product in viewed_products:\n",
    "        recommended = model.kneighbors(get_product_params(product, products), return_distance=False)\n",
    "        for recommended_product in recommended[0]:\n",
    "            recommended_product_id = products.iloc[[recommended_product]]['product_id']\n",
    "            pid = int(recommended_product_id)\n",
    "            if pid not in viewed_products and pid not in final_reccomendation:\n",
    "                final_reccomendation.append(int(recommended_product_id))\n",
    "            if len(final_reccomendation) == k:\n",
    "                return final_reccomendation"
   ]
  },
  {
   "cell_type": "code",
   "execution_count": 217,
   "metadata": {},
   "outputs": [],
   "source": [
    "user_views_data = get_users_views(sessions_df).reset_index()\n",
    "train_data = user_views_data.sample(frac = 0.8)\n",
    "test_data = user_views_data.drop(train_data.index)\n",
    "test_users = users_df.sample(frac = 0.05)[\"user_id\"]"
   ]
  },
  {
   "cell_type": "code",
   "execution_count": 329,
   "metadata": {},
   "outputs": [
    {
     "name": "stdout",
     "output_type": "stream",
     "text": [
      "0.2000\n"
     ]
    }
   ],
   "source": [
    "\n",
    "# ocena poprawności modelu naiwnego\n",
    "train_data_basic = train_data.copy()\n",
    "test_data_basic = test_data.copy()\n",
    "k = 5\n",
    "correct = 0\n",
    "for user in test_users:\n",
    "    recommendations = recommendations_basic(user, nbrs, train_data_basic, products_model_A, k)\n",
    "    for recommendation in recommendations:\n",
    "        view = test_data_basic.loc[(test_data_basic['product_id'] == recommendation) & (test_data_basic['user_id'] == user)]['view']\n",
    "        if view.any():\n",
    "            correct += 1\n",
    "            \n",
    "result = correct / (k*len(test_users))\n",
    "\n",
    "print(\"{:.4f}\".format(result))"
   ]
  },
  {
   "cell_type": "code",
   "execution_count": 319,
   "metadata": {},
   "outputs": [],
   "source": [
    "train_data_basic.to_pickle(\"train_data_basic.pickle\")\n",
    "test_data_basic.to_pickle(\"test_data_basic.pickle\")"
   ]
  },
  {
   "cell_type": "code",
   "execution_count": 321,
   "metadata": {},
   "outputs": [
    {
     "data": {
      "text/plain": [
       "[299, 172, 191, 183, 126, 135, 245, 136, 127, 248]"
      ]
     },
     "execution_count": 321,
     "metadata": {},
     "output_type": "execute_result"
    }
   ],
   "source": [
    "list(test_users.reset_index(drop=True))\n"
   ]
  },
  {
   "cell_type": "code",
   "execution_count": null,
   "metadata": {},
   "outputs": [],
   "source": []
  }
 ],
 "metadata": {
  "interpreter": {
   "hash": "31f2aee4e71d21fbe5cf8b01ff0e069b9275f58929596ceb00d14d90e3e16cd6"
  },
  "kernelspec": {
   "display_name": "Python 3 (ipykernel)",
   "language": "python",
   "name": "python3"
  },
  "language_info": {
   "codemirror_mode": {
    "name": "ipython",
    "version": 3
   },
   "file_extension": ".py",
   "mimetype": "text/x-python",
   "name": "python",
   "nbconvert_exporter": "python",
   "pygments_lexer": "ipython3",
   "version": "3.9.5"
  }
 },
 "nbformat": 4,
 "nbformat_minor": 2
}
